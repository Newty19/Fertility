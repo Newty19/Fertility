{
 "cells": [
  {
   "cell_type": "code",
   "execution_count": 1,
   "id": "b62cbdb1",
   "metadata": {},
   "outputs": [
    {
     "data": {
      "text/html": [
       "<div>\n",
       "<style scoped>\n",
       "    .dataframe tbody tr th:only-of-type {\n",
       "        vertical-align: middle;\n",
       "    }\n",
       "\n",
       "    .dataframe tbody tr th {\n",
       "        vertical-align: top;\n",
       "    }\n",
       "\n",
       "    .dataframe thead th {\n",
       "        text-align: right;\n",
       "    }\n",
       "</style>\n",
       "<table border=\"1\" class=\"dataframe\">\n",
       "  <thead>\n",
       "    <tr style=\"text-align: right;\">\n",
       "      <th></th>\n",
       "      <th>Season</th>\n",
       "      <th>Age</th>\n",
       "      <th>Childish Diseases</th>\n",
       "      <th>Accident</th>\n",
       "      <th>Surgical</th>\n",
       "      <th>High fevers</th>\n",
       "      <th>Alcohol</th>\n",
       "      <th>Smoking</th>\n",
       "      <th>Sitting Hours</th>\n",
       "      <th>Output</th>\n",
       "    </tr>\n",
       "  </thead>\n",
       "  <tbody>\n",
       "    <tr>\n",
       "      <th>0</th>\n",
       "      <td>-0.33</td>\n",
       "      <td>0.69</td>\n",
       "      <td>0</td>\n",
       "      <td>1</td>\n",
       "      <td>1</td>\n",
       "      <td>0</td>\n",
       "      <td>0.8</td>\n",
       "      <td>0</td>\n",
       "      <td>0.88</td>\n",
       "      <td>1</td>\n",
       "    </tr>\n",
       "    <tr>\n",
       "      <th>1</th>\n",
       "      <td>-0.33</td>\n",
       "      <td>0.94</td>\n",
       "      <td>1</td>\n",
       "      <td>0</td>\n",
       "      <td>1</td>\n",
       "      <td>0</td>\n",
       "      <td>0.8</td>\n",
       "      <td>1</td>\n",
       "      <td>0.31</td>\n",
       "      <td>0</td>\n",
       "    </tr>\n",
       "    <tr>\n",
       "      <th>2</th>\n",
       "      <td>-0.33</td>\n",
       "      <td>0.50</td>\n",
       "      <td>1</td>\n",
       "      <td>0</td>\n",
       "      <td>0</td>\n",
       "      <td>0</td>\n",
       "      <td>1.0</td>\n",
       "      <td>-1</td>\n",
       "      <td>0.50</td>\n",
       "      <td>1</td>\n",
       "    </tr>\n",
       "    <tr>\n",
       "      <th>3</th>\n",
       "      <td>-0.33</td>\n",
       "      <td>0.75</td>\n",
       "      <td>0</td>\n",
       "      <td>1</td>\n",
       "      <td>1</td>\n",
       "      <td>0</td>\n",
       "      <td>1.0</td>\n",
       "      <td>-1</td>\n",
       "      <td>0.38</td>\n",
       "      <td>1</td>\n",
       "    </tr>\n",
       "    <tr>\n",
       "      <th>4</th>\n",
       "      <td>-0.33</td>\n",
       "      <td>0.67</td>\n",
       "      <td>1</td>\n",
       "      <td>1</td>\n",
       "      <td>0</td>\n",
       "      <td>0</td>\n",
       "      <td>0.8</td>\n",
       "      <td>-1</td>\n",
       "      <td>0.50</td>\n",
       "      <td>0</td>\n",
       "    </tr>\n",
       "  </tbody>\n",
       "</table>\n",
       "</div>"
      ],
      "text/plain": [
       "   Season   Age  Childish Diseases  Accident  Surgical  High fevers  Alcohol  \\\n",
       "0   -0.33  0.69                  0         1         1            0      0.8   \n",
       "1   -0.33  0.94                  1         0         1            0      0.8   \n",
       "2   -0.33  0.50                  1         0         0            0      1.0   \n",
       "3   -0.33  0.75                  0         1         1            0      1.0   \n",
       "4   -0.33  0.67                  1         1         0            0      0.8   \n",
       "\n",
       "   Smoking  Sitting Hours  Output  \n",
       "0        0           0.88       1  \n",
       "1        1           0.31       0  \n",
       "2       -1           0.50       1  \n",
       "3       -1           0.38       1  \n",
       "4       -1           0.50       0  "
      ]
     },
     "execution_count": 1,
     "metadata": {},
     "output_type": "execute_result"
    }
   ],
   "source": [
    "# Importamos el dataset.\n",
    "import pandas as pd\n",
    "\n",
    "archivo_txt = \"data.txt\"\n",
    "\n",
    "fertility = pd.read_csv(archivo_txt, sep=',')\n",
    "\n",
    "fertility.head()"
   ]
  },
  {
   "cell_type": "code",
   "execution_count": 2,
   "id": "847ea164",
   "metadata": {},
   "outputs": [],
   "source": [
    "# Divide el train y test pero se asegura que la proporción \n",
    "# de datos se mantenga en train y test.\n",
    "from sklearn.model_selection import StratifiedShuffleSplit\n",
    "\n",
    "split = StratifiedShuffleSplit(n_splits=1, test_size=0.2, random_state=42)\n",
    "for train_index, test_index in split.split(fertility, fertility[\"Output\"]):\n",
    "    strat_train_set = fertility.loc[train_index]\n",
    "    strat_test_set = fertility.loc[test_index]"
   ]
  },
  {
   "cell_type": "code",
   "execution_count": 4,
   "id": "8f61a9d0",
   "metadata": {},
   "outputs": [
    {
     "name": "stdout",
     "output_type": "stream",
     "text": [
      "(80, 9)\n",
      "(80,)\n",
      "(20, 9)\n",
      "(20,)\n"
     ]
    }
   ],
   "source": [
    "# Dividimos el dataset en X e y\n",
    "X_train = strat_train_set.drop('Output', axis=1)\n",
    "y_train = strat_train_set['Output'].copy()\n",
    "X_test = strat_test_set.drop('Output', axis=1)\n",
    "y_test = strat_test_set['Output'].copy()\n",
    "\n",
    "print(X_train.shape)\n",
    "print(y_train.shape)\n",
    "print(X_test.shape)\n",
    "print(y_test.shape)"
   ]
  },
  {
   "cell_type": "code",
   "execution_count": 6,
   "id": "46a24fbc",
   "metadata": {},
   "outputs": [
    {
     "data": {
      "text/plain": [
       "Output               1.000000\n",
       "Alcohol              0.144760\n",
       "Accident             0.141346\n",
       "High fevers          0.121421\n",
       "Childish Diseases    0.040261\n",
       "Sitting Hours       -0.022964\n",
       "Smoking             -0.045891\n",
       "Surgical            -0.054171\n",
       "Age                 -0.115229\n",
       "Season              -0.192417\n",
       "Name: Output, dtype: float64"
      ]
     },
     "execution_count": 6,
     "metadata": {},
     "output_type": "execute_result"
    }
   ],
   "source": [
    "# Matriz de correlación con respecto al Target\n",
    "corr_matrix = fertility.corr()\n",
    "\n",
    "corr_matrix['Output'].sort_values(ascending=False)"
   ]
  },
  {
   "cell_type": "markdown",
   "id": "87c345f4",
   "metadata": {
    "heading_collapsed": true
   },
   "source": [
    "# Support Vector Machine"
   ]
  },
  {
   "cell_type": "code",
   "execution_count": 7,
   "id": "a3df8816",
   "metadata": {
    "hidden": true
   },
   "outputs": [
    {
     "name": "stdout",
     "output_type": "stream",
     "text": [
      "Fitting 5 folds for each of 10 candidates, totalling 50 fits\n"
     ]
    },
    {
     "data": {
      "text/html": [
       "<style>#sk-container-id-1 {color: black;}#sk-container-id-1 pre{padding: 0;}#sk-container-id-1 div.sk-toggleable {background-color: white;}#sk-container-id-1 label.sk-toggleable__label {cursor: pointer;display: block;width: 100%;margin-bottom: 0;padding: 0.3em;box-sizing: border-box;text-align: center;}#sk-container-id-1 label.sk-toggleable__label-arrow:before {content: \"▸\";float: left;margin-right: 0.25em;color: #696969;}#sk-container-id-1 label.sk-toggleable__label-arrow:hover:before {color: black;}#sk-container-id-1 div.sk-estimator:hover label.sk-toggleable__label-arrow:before {color: black;}#sk-container-id-1 div.sk-toggleable__content {max-height: 0;max-width: 0;overflow: hidden;text-align: left;background-color: #f0f8ff;}#sk-container-id-1 div.sk-toggleable__content pre {margin: 0.2em;color: black;border-radius: 0.25em;background-color: #f0f8ff;}#sk-container-id-1 input.sk-toggleable__control:checked~div.sk-toggleable__content {max-height: 200px;max-width: 100%;overflow: auto;}#sk-container-id-1 input.sk-toggleable__control:checked~label.sk-toggleable__label-arrow:before {content: \"▾\";}#sk-container-id-1 div.sk-estimator input.sk-toggleable__control:checked~label.sk-toggleable__label {background-color: #d4ebff;}#sk-container-id-1 div.sk-label input.sk-toggleable__control:checked~label.sk-toggleable__label {background-color: #d4ebff;}#sk-container-id-1 input.sk-hidden--visually {border: 0;clip: rect(1px 1px 1px 1px);clip: rect(1px, 1px, 1px, 1px);height: 1px;margin: -1px;overflow: hidden;padding: 0;position: absolute;width: 1px;}#sk-container-id-1 div.sk-estimator {font-family: monospace;background-color: #f0f8ff;border: 1px dotted black;border-radius: 0.25em;box-sizing: border-box;margin-bottom: 0.5em;}#sk-container-id-1 div.sk-estimator:hover {background-color: #d4ebff;}#sk-container-id-1 div.sk-parallel-item::after {content: \"\";width: 100%;border-bottom: 1px solid gray;flex-grow: 1;}#sk-container-id-1 div.sk-label:hover label.sk-toggleable__label {background-color: #d4ebff;}#sk-container-id-1 div.sk-serial::before {content: \"\";position: absolute;border-left: 1px solid gray;box-sizing: border-box;top: 0;bottom: 0;left: 50%;z-index: 0;}#sk-container-id-1 div.sk-serial {display: flex;flex-direction: column;align-items: center;background-color: white;padding-right: 0.2em;padding-left: 0.2em;position: relative;}#sk-container-id-1 div.sk-item {position: relative;z-index: 1;}#sk-container-id-1 div.sk-parallel {display: flex;align-items: stretch;justify-content: center;background-color: white;position: relative;}#sk-container-id-1 div.sk-item::before, #sk-container-id-1 div.sk-parallel-item::before {content: \"\";position: absolute;border-left: 1px solid gray;box-sizing: border-box;top: 0;bottom: 0;left: 50%;z-index: -1;}#sk-container-id-1 div.sk-parallel-item {display: flex;flex-direction: column;z-index: 1;position: relative;background-color: white;}#sk-container-id-1 div.sk-parallel-item:first-child::after {align-self: flex-end;width: 50%;}#sk-container-id-1 div.sk-parallel-item:last-child::after {align-self: flex-start;width: 50%;}#sk-container-id-1 div.sk-parallel-item:only-child::after {width: 0;}#sk-container-id-1 div.sk-dashed-wrapped {border: 1px dashed gray;margin: 0 0.4em 0.5em 0.4em;box-sizing: border-box;padding-bottom: 0.4em;background-color: white;}#sk-container-id-1 div.sk-label label {font-family: monospace;font-weight: bold;display: inline-block;line-height: 1.2em;}#sk-container-id-1 div.sk-label-container {text-align: center;}#sk-container-id-1 div.sk-container {/* jupyter's `normalize.less` sets `[hidden] { display: none; }` but bootstrap.min.css set `[hidden] { display: none !important; }` so we also need the `!important` here to be able to override the default hidden behavior on the sphinx rendered scikit-learn.org. See: https://github.com/scikit-learn/scikit-learn/issues/21755 */display: inline-block !important;position: relative;}#sk-container-id-1 div.sk-text-repr-fallback {display: none;}</style><div id=\"sk-container-id-1\" class=\"sk-top-container\"><div class=\"sk-text-repr-fallback\"><pre>RandomizedSearchCV(cv=5,\n",
       "                   estimator=Pipeline(steps=[(&#x27;scaler&#x27;, StandardScaler()),\n",
       "                                             (&#x27;svm_clf&#x27;, SVC())]),\n",
       "                   n_jobs=-1,\n",
       "                   param_distributions=[{&#x27;svm_clf__C&#x27;: [0.1, 1, 10, 100, 1000],\n",
       "                                         &#x27;svm_clf__kernel&#x27;: [&#x27;linear&#x27;],\n",
       "                                         &#x27;svm_clf__probability&#x27;: [True]},\n",
       "                                        {&#x27;svm_clf__C&#x27;: [0.1, 1, 10, 100, 1000],\n",
       "                                         &#x27;svm_clf__gamma&#x27;: [0.001, 0.0001],\n",
       "                                         &#x27;svm_clf__kernel&#x27;: [&#x27;rbf&#x27;],\n",
       "                                         &#x27;svm_clf__probability&#x27;: [True]},\n",
       "                                        {&#x27;svm_clf__C&#x27;: [0.1, 1, 10, 100, 1000],\n",
       "                                         &#x27;svm_clf__degree&#x27;: [2, 3],\n",
       "                                         &#x27;svm_clf__gamma&#x27;: [0.001, 0.0001],\n",
       "                                         &#x27;svm_clf__kernel&#x27;: [&#x27;poly&#x27;],\n",
       "                                         &#x27;svm_clf__probability&#x27;: [True]}],\n",
       "                   random_state=42, scoring=&#x27;accuracy&#x27;, verbose=True)</pre><b>In a Jupyter environment, please rerun this cell to show the HTML representation or trust the notebook. <br />On GitHub, the HTML representation is unable to render, please try loading this page with nbviewer.org.</b></div><div class=\"sk-container\" hidden><div class=\"sk-item sk-dashed-wrapped\"><div class=\"sk-label-container\"><div class=\"sk-label sk-toggleable\"><input class=\"sk-toggleable__control sk-hidden--visually\" id=\"sk-estimator-id-1\" type=\"checkbox\" ><label for=\"sk-estimator-id-1\" class=\"sk-toggleable__label sk-toggleable__label-arrow\">RandomizedSearchCV</label><div class=\"sk-toggleable__content\"><pre>RandomizedSearchCV(cv=5,\n",
       "                   estimator=Pipeline(steps=[(&#x27;scaler&#x27;, StandardScaler()),\n",
       "                                             (&#x27;svm_clf&#x27;, SVC())]),\n",
       "                   n_jobs=-1,\n",
       "                   param_distributions=[{&#x27;svm_clf__C&#x27;: [0.1, 1, 10, 100, 1000],\n",
       "                                         &#x27;svm_clf__kernel&#x27;: [&#x27;linear&#x27;],\n",
       "                                         &#x27;svm_clf__probability&#x27;: [True]},\n",
       "                                        {&#x27;svm_clf__C&#x27;: [0.1, 1, 10, 100, 1000],\n",
       "                                         &#x27;svm_clf__gamma&#x27;: [0.001, 0.0001],\n",
       "                                         &#x27;svm_clf__kernel&#x27;: [&#x27;rbf&#x27;],\n",
       "                                         &#x27;svm_clf__probability&#x27;: [True]},\n",
       "                                        {&#x27;svm_clf__C&#x27;: [0.1, 1, 10, 100, 1000],\n",
       "                                         &#x27;svm_clf__degree&#x27;: [2, 3],\n",
       "                                         &#x27;svm_clf__gamma&#x27;: [0.001, 0.0001],\n",
       "                                         &#x27;svm_clf__kernel&#x27;: [&#x27;poly&#x27;],\n",
       "                                         &#x27;svm_clf__probability&#x27;: [True]}],\n",
       "                   random_state=42, scoring=&#x27;accuracy&#x27;, verbose=True)</pre></div></div></div><div class=\"sk-parallel\"><div class=\"sk-parallel-item\"><div class=\"sk-item\"><div class=\"sk-label-container\"><div class=\"sk-label sk-toggleable\"><input class=\"sk-toggleable__control sk-hidden--visually\" id=\"sk-estimator-id-2\" type=\"checkbox\" ><label for=\"sk-estimator-id-2\" class=\"sk-toggleable__label sk-toggleable__label-arrow\">estimator: Pipeline</label><div class=\"sk-toggleable__content\"><pre>Pipeline(steps=[(&#x27;scaler&#x27;, StandardScaler()), (&#x27;svm_clf&#x27;, SVC())])</pre></div></div></div><div class=\"sk-serial\"><div class=\"sk-item\"><div class=\"sk-serial\"><div class=\"sk-item\"><div class=\"sk-estimator sk-toggleable\"><input class=\"sk-toggleable__control sk-hidden--visually\" id=\"sk-estimator-id-3\" type=\"checkbox\" ><label for=\"sk-estimator-id-3\" class=\"sk-toggleable__label sk-toggleable__label-arrow\">StandardScaler</label><div class=\"sk-toggleable__content\"><pre>StandardScaler()</pre></div></div></div><div class=\"sk-item\"><div class=\"sk-estimator sk-toggleable\"><input class=\"sk-toggleable__control sk-hidden--visually\" id=\"sk-estimator-id-4\" type=\"checkbox\" ><label for=\"sk-estimator-id-4\" class=\"sk-toggleable__label sk-toggleable__label-arrow\">SVC</label><div class=\"sk-toggleable__content\"><pre>SVC()</pre></div></div></div></div></div></div></div></div></div></div></div></div>"
      ],
      "text/plain": [
       "RandomizedSearchCV(cv=5,\n",
       "                   estimator=Pipeline(steps=[('scaler', StandardScaler()),\n",
       "                                             ('svm_clf', SVC())]),\n",
       "                   n_jobs=-1,\n",
       "                   param_distributions=[{'svm_clf__C': [0.1, 1, 10, 100, 1000],\n",
       "                                         'svm_clf__kernel': ['linear'],\n",
       "                                         'svm_clf__probability': [True]},\n",
       "                                        {'svm_clf__C': [0.1, 1, 10, 100, 1000],\n",
       "                                         'svm_clf__gamma': [0.001, 0.0001],\n",
       "                                         'svm_clf__kernel': ['rbf'],\n",
       "                                         'svm_clf__probability': [True]},\n",
       "                                        {'svm_clf__C': [0.1, 1, 10, 100, 1000],\n",
       "                                         'svm_clf__degree': [2, 3],\n",
       "                                         'svm_clf__gamma': [0.001, 0.0001],\n",
       "                                         'svm_clf__kernel': ['poly'],\n",
       "                                         'svm_clf__probability': [True]}],\n",
       "                   random_state=42, scoring='accuracy', verbose=True)"
      ]
     },
     "execution_count": 7,
     "metadata": {},
     "output_type": "execute_result"
    }
   ],
   "source": [
    "from sklearn.model_selection import RandomizedSearchCV\n",
    "from sklearn.pipeline import Pipeline\n",
    "from sklearn.preprocessing import StandardScaler\n",
    "from sklearn.svm import SVC\n",
    "\n",
    "# Creamos el clasificador SVC\n",
    "svm_clf = SVC()\n",
    "\n",
    "# Creamos el pipeline\n",
    "svm_clf_pipeline = Pipeline([\n",
    "    (\"scaler\", StandardScaler()),\n",
    "    (\"svm_clf\", svm_clf)\n",
    "])\n",
    "\n",
    "# Grid de parámetros para el clasificador SVC\n",
    "param_grid = [\n",
    "    {'svm_clf__C': [0.1, 1, 10, 100, 1000], 'svm_clf__kernel': ['linear'], 'svm_clf__probability': [True]},\n",
    "    {'svm_clf__C': [0.1, 1, 10, 100, 1000], 'svm_clf__gamma': [0.001, 0.0001], 'svm_clf__kernel': ['rbf'], 'svm_clf__probability': [True]},\n",
    "    {'svm_clf__C': [0.1, 1, 10, 100, 1000], 'svm_clf__gamma': [0.001, 0.0001], 'svm_clf__kernel': ['poly'], 'svm_clf__degree': [2, 3], 'svm_clf__probability': [True]}\n",
    "] \n",
    "\n",
    "# Creamos el RandomizedSearchCV\n",
    "randomized_search = RandomizedSearchCV(svm_clf_pipeline, param_grid, cv=5, scoring='accuracy', n_jobs=-1, verbose=True, random_state=42)\n",
    "\n",
    "# Entrenamos el modelo\n",
    "randomized_search.fit(X_train, y_train)"
   ]
  },
  {
   "cell_type": "code",
   "execution_count": 8,
   "id": "9e36dca2",
   "metadata": {
    "hidden": true
   },
   "outputs": [
    {
     "data": {
      "text/plain": [
       "{'svm_clf__probability': True,\n",
       " 'svm_clf__kernel': 'poly',\n",
       " 'svm_clf__gamma': 0.0001,\n",
       " 'svm_clf__degree': 3,\n",
       " 'svm_clf__C': 10}"
      ]
     },
     "execution_count": 8,
     "metadata": {},
     "output_type": "execute_result"
    }
   ],
   "source": [
    "# Obtenemos el pipeline con el mejor estimador\n",
    "final_model = randomized_search.best_estimator_\n",
    "\n",
    "# Mostramos los mejores parámetros\n",
    "randomized_search.best_params_"
   ]
  },
  {
   "cell_type": "code",
   "execution_count": 23,
   "id": "722526b9",
   "metadata": {
    "hidden": true
   },
   "outputs": [
    {
     "data": {
      "text/plain": [
       "['modelos/svm.pkl']"
      ]
     },
     "execution_count": 23,
     "metadata": {},
     "output_type": "execute_result"
    }
   ],
   "source": [
    "# Entrenamos el modelo\n",
    "final_model.fit(X_train, y_train)\n",
    "\n",
    "import joblib\n",
    "joblib.dump(final_model, 'modelos/svm.pkl')"
   ]
  },
  {
   "cell_type": "code",
   "execution_count": 12,
   "id": "03b1e8f1",
   "metadata": {
    "hidden": true
   },
   "outputs": [
    {
     "name": "stdout",
     "output_type": "stream",
     "text": [
      "Confusion Matrix\n",
      "[[ 0  2]\n",
      " [ 0 18]]\n",
      "Precision\n",
      "0.9\n",
      "Recall\n",
      "1.0\n",
      "F1 Score\n",
      "0.9473684210526316\n",
      "ROC\n",
      "0.5\n"
     ]
    }
   ],
   "source": [
    "from sklearn.model_selection import cross_val_predict\n",
    "\n",
    "# Predecimos el target de test\n",
    "y_test_pred = final_model.predict(X_test)\n",
    "\n",
    "######## CONFUSION MATRIX\n",
    "from sklearn.metrics import confusion_matrix\n",
    "print(\"Confusion Matrix\")\n",
    "print(confusion_matrix(y_test, y_test_pred))\n",
    "\n",
    "######## PRECISION Y RECALL\n",
    "from sklearn.metrics import precision_score, recall_score\n",
    "print(\"Precision\")\n",
    "print(precision_score(y_test, y_test_pred))\n",
    "print(\"Recall\")\n",
    "print(recall_score(y_test, y_test_pred))\n",
    "\n",
    "######## F1 SCORE\n",
    "from sklearn.metrics import f1_score\n",
    "print(\"F1 Score\")\n",
    "print(f1_score(y_test, y_test_pred))\n",
    "\n",
    "######## ROC AUC SCORE\n",
    "from sklearn.metrics import roc_auc_score\n",
    "print(\"ROC\")\n",
    "print(roc_auc_score(y_test, y_test_pred))\n"
   ]
  },
  {
   "cell_type": "code",
   "execution_count": null,
   "id": "76fab426",
   "metadata": {
    "hidden": true
   },
   "outputs": [],
   "source": []
  },
  {
   "cell_type": "markdown",
   "id": "25caf59f",
   "metadata": {
    "heading_collapsed": true
   },
   "source": [
    "# Random Forest Classifier"
   ]
  },
  {
   "cell_type": "code",
   "execution_count": 16,
   "id": "d6a1be73",
   "metadata": {
    "hidden": true
   },
   "outputs": [
    {
     "name": "stdout",
     "output_type": "stream",
     "text": [
      "Fitting 5 folds for each of 10 candidates, totalling 50 fits\n"
     ]
    },
    {
     "data": {
      "text/html": [
       "<style>#sk-container-id-4 {color: black;}#sk-container-id-4 pre{padding: 0;}#sk-container-id-4 div.sk-toggleable {background-color: white;}#sk-container-id-4 label.sk-toggleable__label {cursor: pointer;display: block;width: 100%;margin-bottom: 0;padding: 0.3em;box-sizing: border-box;text-align: center;}#sk-container-id-4 label.sk-toggleable__label-arrow:before {content: \"▸\";float: left;margin-right: 0.25em;color: #696969;}#sk-container-id-4 label.sk-toggleable__label-arrow:hover:before {color: black;}#sk-container-id-4 div.sk-estimator:hover label.sk-toggleable__label-arrow:before {color: black;}#sk-container-id-4 div.sk-toggleable__content {max-height: 0;max-width: 0;overflow: hidden;text-align: left;background-color: #f0f8ff;}#sk-container-id-4 div.sk-toggleable__content pre {margin: 0.2em;color: black;border-radius: 0.25em;background-color: #f0f8ff;}#sk-container-id-4 input.sk-toggleable__control:checked~div.sk-toggleable__content {max-height: 200px;max-width: 100%;overflow: auto;}#sk-container-id-4 input.sk-toggleable__control:checked~label.sk-toggleable__label-arrow:before {content: \"▾\";}#sk-container-id-4 div.sk-estimator input.sk-toggleable__control:checked~label.sk-toggleable__label {background-color: #d4ebff;}#sk-container-id-4 div.sk-label input.sk-toggleable__control:checked~label.sk-toggleable__label {background-color: #d4ebff;}#sk-container-id-4 input.sk-hidden--visually {border: 0;clip: rect(1px 1px 1px 1px);clip: rect(1px, 1px, 1px, 1px);height: 1px;margin: -1px;overflow: hidden;padding: 0;position: absolute;width: 1px;}#sk-container-id-4 div.sk-estimator {font-family: monospace;background-color: #f0f8ff;border: 1px dotted black;border-radius: 0.25em;box-sizing: border-box;margin-bottom: 0.5em;}#sk-container-id-4 div.sk-estimator:hover {background-color: #d4ebff;}#sk-container-id-4 div.sk-parallel-item::after {content: \"\";width: 100%;border-bottom: 1px solid gray;flex-grow: 1;}#sk-container-id-4 div.sk-label:hover label.sk-toggleable__label {background-color: #d4ebff;}#sk-container-id-4 div.sk-serial::before {content: \"\";position: absolute;border-left: 1px solid gray;box-sizing: border-box;top: 0;bottom: 0;left: 50%;z-index: 0;}#sk-container-id-4 div.sk-serial {display: flex;flex-direction: column;align-items: center;background-color: white;padding-right: 0.2em;padding-left: 0.2em;position: relative;}#sk-container-id-4 div.sk-item {position: relative;z-index: 1;}#sk-container-id-4 div.sk-parallel {display: flex;align-items: stretch;justify-content: center;background-color: white;position: relative;}#sk-container-id-4 div.sk-item::before, #sk-container-id-4 div.sk-parallel-item::before {content: \"\";position: absolute;border-left: 1px solid gray;box-sizing: border-box;top: 0;bottom: 0;left: 50%;z-index: -1;}#sk-container-id-4 div.sk-parallel-item {display: flex;flex-direction: column;z-index: 1;position: relative;background-color: white;}#sk-container-id-4 div.sk-parallel-item:first-child::after {align-self: flex-end;width: 50%;}#sk-container-id-4 div.sk-parallel-item:last-child::after {align-self: flex-start;width: 50%;}#sk-container-id-4 div.sk-parallel-item:only-child::after {width: 0;}#sk-container-id-4 div.sk-dashed-wrapped {border: 1px dashed gray;margin: 0 0.4em 0.5em 0.4em;box-sizing: border-box;padding-bottom: 0.4em;background-color: white;}#sk-container-id-4 div.sk-label label {font-family: monospace;font-weight: bold;display: inline-block;line-height: 1.2em;}#sk-container-id-4 div.sk-label-container {text-align: center;}#sk-container-id-4 div.sk-container {/* jupyter's `normalize.less` sets `[hidden] { display: none; }` but bootstrap.min.css set `[hidden] { display: none !important; }` so we also need the `!important` here to be able to override the default hidden behavior on the sphinx rendered scikit-learn.org. See: https://github.com/scikit-learn/scikit-learn/issues/21755 */display: inline-block !important;position: relative;}#sk-container-id-4 div.sk-text-repr-fallback {display: none;}</style><div id=\"sk-container-id-4\" class=\"sk-top-container\"><div class=\"sk-text-repr-fallback\"><pre>RandomizedSearchCV(cv=5,\n",
       "                   estimator=Pipeline(steps=[(&#x27;pca&#x27;, PCA()),\n",
       "                                             (&#x27;rf_clf&#x27;,\n",
       "                                              RandomForestClassifier())]),\n",
       "                   n_jobs=-1,\n",
       "                   param_distributions=[{&#x27;rf_clf__max_features&#x27;: [2, 4, 6, 8],\n",
       "                                         &#x27;rf_clf__n_estimators&#x27;: [10, 100, 200,\n",
       "                                                                  500]},\n",
       "                                        {&#x27;rf_clf__bootstrap&#x27;: [False],\n",
       "                                         &#x27;rf_clf__max_features&#x27;: [2, 3, 4],\n",
       "                                         &#x27;rf_clf__n_estimators&#x27;: [10, 100, 200,\n",
       "                                                                  500]}],\n",
       "                   random_state=42, scoring=&#x27;accuracy&#x27;, verbose=True)</pre><b>In a Jupyter environment, please rerun this cell to show the HTML representation or trust the notebook. <br />On GitHub, the HTML representation is unable to render, please try loading this page with nbviewer.org.</b></div><div class=\"sk-container\" hidden><div class=\"sk-item sk-dashed-wrapped\"><div class=\"sk-label-container\"><div class=\"sk-label sk-toggleable\"><input class=\"sk-toggleable__control sk-hidden--visually\" id=\"sk-estimator-id-11\" type=\"checkbox\" ><label for=\"sk-estimator-id-11\" class=\"sk-toggleable__label sk-toggleable__label-arrow\">RandomizedSearchCV</label><div class=\"sk-toggleable__content\"><pre>RandomizedSearchCV(cv=5,\n",
       "                   estimator=Pipeline(steps=[(&#x27;pca&#x27;, PCA()),\n",
       "                                             (&#x27;rf_clf&#x27;,\n",
       "                                              RandomForestClassifier())]),\n",
       "                   n_jobs=-1,\n",
       "                   param_distributions=[{&#x27;rf_clf__max_features&#x27;: [2, 4, 6, 8],\n",
       "                                         &#x27;rf_clf__n_estimators&#x27;: [10, 100, 200,\n",
       "                                                                  500]},\n",
       "                                        {&#x27;rf_clf__bootstrap&#x27;: [False],\n",
       "                                         &#x27;rf_clf__max_features&#x27;: [2, 3, 4],\n",
       "                                         &#x27;rf_clf__n_estimators&#x27;: [10, 100, 200,\n",
       "                                                                  500]}],\n",
       "                   random_state=42, scoring=&#x27;accuracy&#x27;, verbose=True)</pre></div></div></div><div class=\"sk-parallel\"><div class=\"sk-parallel-item\"><div class=\"sk-item\"><div class=\"sk-label-container\"><div class=\"sk-label sk-toggleable\"><input class=\"sk-toggleable__control sk-hidden--visually\" id=\"sk-estimator-id-12\" type=\"checkbox\" ><label for=\"sk-estimator-id-12\" class=\"sk-toggleable__label sk-toggleable__label-arrow\">estimator: Pipeline</label><div class=\"sk-toggleable__content\"><pre>Pipeline(steps=[(&#x27;pca&#x27;, PCA()), (&#x27;rf_clf&#x27;, RandomForestClassifier())])</pre></div></div></div><div class=\"sk-serial\"><div class=\"sk-item\"><div class=\"sk-serial\"><div class=\"sk-item\"><div class=\"sk-estimator sk-toggleable\"><input class=\"sk-toggleable__control sk-hidden--visually\" id=\"sk-estimator-id-13\" type=\"checkbox\" ><label for=\"sk-estimator-id-13\" class=\"sk-toggleable__label sk-toggleable__label-arrow\">PCA</label><div class=\"sk-toggleable__content\"><pre>PCA()</pre></div></div></div><div class=\"sk-item\"><div class=\"sk-estimator sk-toggleable\"><input class=\"sk-toggleable__control sk-hidden--visually\" id=\"sk-estimator-id-14\" type=\"checkbox\" ><label for=\"sk-estimator-id-14\" class=\"sk-toggleable__label sk-toggleable__label-arrow\">RandomForestClassifier</label><div class=\"sk-toggleable__content\"><pre>RandomForestClassifier()</pre></div></div></div></div></div></div></div></div></div></div></div></div>"
      ],
      "text/plain": [
       "RandomizedSearchCV(cv=5,\n",
       "                   estimator=Pipeline(steps=[('pca', PCA()),\n",
       "                                             ('rf_clf',\n",
       "                                              RandomForestClassifier())]),\n",
       "                   n_jobs=-1,\n",
       "                   param_distributions=[{'rf_clf__max_features': [2, 4, 6, 8],\n",
       "                                         'rf_clf__n_estimators': [10, 100, 200,\n",
       "                                                                  500]},\n",
       "                                        {'rf_clf__bootstrap': [False],\n",
       "                                         'rf_clf__max_features': [2, 3, 4],\n",
       "                                         'rf_clf__n_estimators': [10, 100, 200,\n",
       "                                                                  500]}],\n",
       "                   random_state=42, scoring='accuracy', verbose=True)"
      ]
     },
     "execution_count": 16,
     "metadata": {},
     "output_type": "execute_result"
    }
   ],
   "source": [
    "from sklearn.ensemble import RandomForestClassifier\n",
    "from sklearn.decomposition import PCA\n",
    "\n",
    "# Creamos el clasificador Random Forest\n",
    "rf_clf = RandomForestClassifier()\n",
    "\n",
    "# Creamos el pipeline\n",
    "rf_clf_pipeline = Pipeline([\n",
    "    (\"pca\", PCA()),\n",
    "    (\"rf_clf\", rf_clf)\n",
    "])\n",
    "\n",
    "# Grid de parámetros para el clasificador RandomForestClassifier\n",
    "param_grid = [\n",
    "    {'rf_clf__n_estimators': [10, 100, 200, 500], 'rf_clf__max_features': [2, 4, 6, 8]},\n",
    "    {'rf_clf__bootstrap': [False], 'rf_clf__n_estimators': [10, 100, 200, 500], 'rf_clf__max_features': [2, 3, 4]}\n",
    "]\n",
    "\n",
    "# Creamos el RandomizedSearchCV\n",
    "randomized_search = RandomizedSearchCV(rf_clf_pipeline, param_grid, cv=5, scoring='accuracy', n_jobs=-1, verbose=True, random_state=42)\n",
    "\n",
    "# Entrenamos el modelo\n",
    "randomized_search.fit(X_train, y_train)"
   ]
  },
  {
   "cell_type": "code",
   "execution_count": 24,
   "id": "62e51394",
   "metadata": {
    "hidden": true
   },
   "outputs": [
    {
     "data": {
      "text/plain": [
       "['modelos/rfc.pkl']"
      ]
     },
     "execution_count": 24,
     "metadata": {},
     "output_type": "execute_result"
    }
   ],
   "source": [
    "# Obtenemos el mejor estimador\n",
    "final_model = randomized_search.best_estimator_\n",
    "\n",
    "# Mostramos los mejores parámetros\n",
    "randomized_search.best_params_\n",
    "\n",
    "# Entrenamos el modelo\n",
    "final_model.fit(X_train, y_train)\n",
    "\n",
    "import joblib\n",
    "joblib.dump(final_model, 'modelos/rfc.pkl')"
   ]
  },
  {
   "cell_type": "code",
   "execution_count": 19,
   "id": "e93f043b",
   "metadata": {
    "hidden": true
   },
   "outputs": [
    {
     "name": "stdout",
     "output_type": "stream",
     "text": [
      "Confusion Matrix\n",
      "[[ 0  2]\n",
      " [ 1 17]]\n",
      "Precision\n",
      "0.8947368421052632\n",
      "Recall\n",
      "0.9444444444444444\n",
      "F1 Score\n",
      "0.918918918918919\n",
      "ROC\n",
      "0.4722222222222222\n"
     ]
    }
   ],
   "source": [
    "from sklearn.model_selection import cross_val_predict\n",
    "\n",
    "# Predecimos el target de test\n",
    "y_test_pred = final_model.predict(X_test)\n",
    "\n",
    "######## CONFUSION MATRIX\n",
    "from sklearn.metrics import confusion_matrix\n",
    "print(\"Confusion Matrix\")\n",
    "print(confusion_matrix(y_test, y_test_pred))\n",
    "\n",
    "######## PRECISION Y RECALL\n",
    "from sklearn.metrics import precision_score, recall_score\n",
    "print(\"Precision\")\n",
    "print(precision_score(y_test, y_test_pred))\n",
    "print(\"Recall\")\n",
    "print(recall_score(y_test, y_test_pred))\n",
    "\n",
    "######## F1 SCORE\n",
    "from sklearn.metrics import f1_score\n",
    "print(\"F1 Score\")\n",
    "print(f1_score(y_test, y_test_pred))\n",
    "\n",
    "######## ROC AUC SCORE\n",
    "from sklearn.metrics import roc_auc_score\n",
    "print(\"ROC\")\n",
    "print(roc_auc_score(y_test, y_test_pred))"
   ]
  },
  {
   "cell_type": "markdown",
   "id": "8ae111c4",
   "metadata": {},
   "source": [
    "# Extra Trees"
   ]
  },
  {
   "cell_type": "code",
   "execution_count": 14,
   "id": "2f6c3453",
   "metadata": {},
   "outputs": [
    {
     "data": {
      "text/html": [
       "<style>#sk-container-id-3 {color: black;}#sk-container-id-3 pre{padding: 0;}#sk-container-id-3 div.sk-toggleable {background-color: white;}#sk-container-id-3 label.sk-toggleable__label {cursor: pointer;display: block;width: 100%;margin-bottom: 0;padding: 0.3em;box-sizing: border-box;text-align: center;}#sk-container-id-3 label.sk-toggleable__label-arrow:before {content: \"▸\";float: left;margin-right: 0.25em;color: #696969;}#sk-container-id-3 label.sk-toggleable__label-arrow:hover:before {color: black;}#sk-container-id-3 div.sk-estimator:hover label.sk-toggleable__label-arrow:before {color: black;}#sk-container-id-3 div.sk-toggleable__content {max-height: 0;max-width: 0;overflow: hidden;text-align: left;background-color: #f0f8ff;}#sk-container-id-3 div.sk-toggleable__content pre {margin: 0.2em;color: black;border-radius: 0.25em;background-color: #f0f8ff;}#sk-container-id-3 input.sk-toggleable__control:checked~div.sk-toggleable__content {max-height: 200px;max-width: 100%;overflow: auto;}#sk-container-id-3 input.sk-toggleable__control:checked~label.sk-toggleable__label-arrow:before {content: \"▾\";}#sk-container-id-3 div.sk-estimator input.sk-toggleable__control:checked~label.sk-toggleable__label {background-color: #d4ebff;}#sk-container-id-3 div.sk-label input.sk-toggleable__control:checked~label.sk-toggleable__label {background-color: #d4ebff;}#sk-container-id-3 input.sk-hidden--visually {border: 0;clip: rect(1px 1px 1px 1px);clip: rect(1px, 1px, 1px, 1px);height: 1px;margin: -1px;overflow: hidden;padding: 0;position: absolute;width: 1px;}#sk-container-id-3 div.sk-estimator {font-family: monospace;background-color: #f0f8ff;border: 1px dotted black;border-radius: 0.25em;box-sizing: border-box;margin-bottom: 0.5em;}#sk-container-id-3 div.sk-estimator:hover {background-color: #d4ebff;}#sk-container-id-3 div.sk-parallel-item::after {content: \"\";width: 100%;border-bottom: 1px solid gray;flex-grow: 1;}#sk-container-id-3 div.sk-label:hover label.sk-toggleable__label {background-color: #d4ebff;}#sk-container-id-3 div.sk-serial::before {content: \"\";position: absolute;border-left: 1px solid gray;box-sizing: border-box;top: 0;bottom: 0;left: 50%;z-index: 0;}#sk-container-id-3 div.sk-serial {display: flex;flex-direction: column;align-items: center;background-color: white;padding-right: 0.2em;padding-left: 0.2em;position: relative;}#sk-container-id-3 div.sk-item {position: relative;z-index: 1;}#sk-container-id-3 div.sk-parallel {display: flex;align-items: stretch;justify-content: center;background-color: white;position: relative;}#sk-container-id-3 div.sk-item::before, #sk-container-id-3 div.sk-parallel-item::before {content: \"\";position: absolute;border-left: 1px solid gray;box-sizing: border-box;top: 0;bottom: 0;left: 50%;z-index: -1;}#sk-container-id-3 div.sk-parallel-item {display: flex;flex-direction: column;z-index: 1;position: relative;background-color: white;}#sk-container-id-3 div.sk-parallel-item:first-child::after {align-self: flex-end;width: 50%;}#sk-container-id-3 div.sk-parallel-item:last-child::after {align-self: flex-start;width: 50%;}#sk-container-id-3 div.sk-parallel-item:only-child::after {width: 0;}#sk-container-id-3 div.sk-dashed-wrapped {border: 1px dashed gray;margin: 0 0.4em 0.5em 0.4em;box-sizing: border-box;padding-bottom: 0.4em;background-color: white;}#sk-container-id-3 div.sk-label label {font-family: monospace;font-weight: bold;display: inline-block;line-height: 1.2em;}#sk-container-id-3 div.sk-label-container {text-align: center;}#sk-container-id-3 div.sk-container {/* jupyter's `normalize.less` sets `[hidden] { display: none; }` but bootstrap.min.css set `[hidden] { display: none !important; }` so we also need the `!important` here to be able to override the default hidden behavior on the sphinx rendered scikit-learn.org. See: https://github.com/scikit-learn/scikit-learn/issues/21755 */display: inline-block !important;position: relative;}#sk-container-id-3 div.sk-text-repr-fallback {display: none;}</style><div id=\"sk-container-id-3\" class=\"sk-top-container\"><div class=\"sk-text-repr-fallback\"><pre>GridSearchCV(cv=5, estimator=ExtraTreesClassifier(random_state=42),\n",
       "             param_grid={&#x27;max_depth&#x27;: [None, 10, 20, 30],\n",
       "                         &#x27;min_samples_leaf&#x27;: [1, 2, 4],\n",
       "                         &#x27;min_samples_split&#x27;: [2, 5, 10],\n",
       "                         &#x27;n_estimators&#x27;: [100, 200, 300]},\n",
       "             scoring=&#x27;accuracy&#x27;)</pre><b>In a Jupyter environment, please rerun this cell to show the HTML representation or trust the notebook. <br />On GitHub, the HTML representation is unable to render, please try loading this page with nbviewer.org.</b></div><div class=\"sk-container\" hidden><div class=\"sk-item sk-dashed-wrapped\"><div class=\"sk-label-container\"><div class=\"sk-label sk-toggleable\"><input class=\"sk-toggleable__control sk-hidden--visually\" id=\"sk-estimator-id-8\" type=\"checkbox\" ><label for=\"sk-estimator-id-8\" class=\"sk-toggleable__label sk-toggleable__label-arrow\">GridSearchCV</label><div class=\"sk-toggleable__content\"><pre>GridSearchCV(cv=5, estimator=ExtraTreesClassifier(random_state=42),\n",
       "             param_grid={&#x27;max_depth&#x27;: [None, 10, 20, 30],\n",
       "                         &#x27;min_samples_leaf&#x27;: [1, 2, 4],\n",
       "                         &#x27;min_samples_split&#x27;: [2, 5, 10],\n",
       "                         &#x27;n_estimators&#x27;: [100, 200, 300]},\n",
       "             scoring=&#x27;accuracy&#x27;)</pre></div></div></div><div class=\"sk-parallel\"><div class=\"sk-parallel-item\"><div class=\"sk-item\"><div class=\"sk-label-container\"><div class=\"sk-label sk-toggleable\"><input class=\"sk-toggleable__control sk-hidden--visually\" id=\"sk-estimator-id-9\" type=\"checkbox\" ><label for=\"sk-estimator-id-9\" class=\"sk-toggleable__label sk-toggleable__label-arrow\">estimator: ExtraTreesClassifier</label><div class=\"sk-toggleable__content\"><pre>ExtraTreesClassifier(random_state=42)</pre></div></div></div><div class=\"sk-serial\"><div class=\"sk-item\"><div class=\"sk-estimator sk-toggleable\"><input class=\"sk-toggleable__control sk-hidden--visually\" id=\"sk-estimator-id-10\" type=\"checkbox\" ><label for=\"sk-estimator-id-10\" class=\"sk-toggleable__label sk-toggleable__label-arrow\">ExtraTreesClassifier</label><div class=\"sk-toggleable__content\"><pre>ExtraTreesClassifier(random_state=42)</pre></div></div></div></div></div></div></div></div></div></div>"
      ],
      "text/plain": [
       "GridSearchCV(cv=5, estimator=ExtraTreesClassifier(random_state=42),\n",
       "             param_grid={'max_depth': [None, 10, 20, 30],\n",
       "                         'min_samples_leaf': [1, 2, 4],\n",
       "                         'min_samples_split': [2, 5, 10],\n",
       "                         'n_estimators': [100, 200, 300]},\n",
       "             scoring='accuracy')"
      ]
     },
     "execution_count": 14,
     "metadata": {},
     "output_type": "execute_result"
    }
   ],
   "source": [
    "########################### EXTRA TREES #########################################\n",
    "from sklearn.ensemble import ExtraTreesClassifier\n",
    "from sklearn.model_selection import GridSearchCV\n",
    "\n",
    "# Crear el modelo ExtraTrees\n",
    "extra_trees = ExtraTreesClassifier(random_state=42)\n",
    "\n",
    "# Definir el espacio de búsqueda de hiperparámetros\n",
    "param_grid_ET = {\n",
    "    'n_estimators': [100, 200, 300],\n",
    "    'max_depth': [None, 10, 20, 30],\n",
    "    'min_samples_split': [2, 5, 10],\n",
    "    'min_samples_leaf': [1, 2, 4]\n",
    "}\n",
    "# Crear un objeto GridSearchCV\n",
    "grid_search_ET = GridSearchCV(extra_trees, param_grid_ET, cv=5, scoring='accuracy')\n",
    "\n",
    "# Ajustar el modelo a los datos de entrenamiento\n",
    "grid_search_ET.fit(X_train, y_train)\n"
   ]
  },
  {
   "cell_type": "code",
   "execution_count": 25,
   "id": "58ec04cf",
   "metadata": {},
   "outputs": [
    {
     "data": {
      "text/plain": [
       "['modelos/et.pkl']"
      ]
     },
     "execution_count": 25,
     "metadata": {},
     "output_type": "execute_result"
    }
   ],
   "source": [
    "import joblib\n",
    "joblib.dump(final_model, 'modelos/et.pkl')"
   ]
  },
  {
   "cell_type": "code",
   "execution_count": 15,
   "id": "92526e3a",
   "metadata": {},
   "outputs": [
    {
     "name": "stdout",
     "output_type": "stream",
     "text": [
      "Confusion Matrix\n",
      "[[ 0  2]\n",
      " [ 1 17]]\n",
      "Precision\n",
      "0.8947368421052632\n",
      "Recall\n",
      "0.9444444444444444\n",
      "F1 Score\n",
      "0.918918918918919\n",
      "ROC\n",
      "0.4722222222222222\n"
     ]
    }
   ],
   "source": [
    "# Obtener los mejores hiperparámetros\n",
    "best_params_ET = grid_search_ET.best_params_\n",
    "\n",
    "# Obtener el mejor modelo entrenado con los mejores hiperparámetros\n",
    "best_extra_trees_model = grid_search_ET.best_estimator_\n",
    "\n",
    "final_predictions_ET = best_extra_trees_model.predict(X_test)\n",
    "\n",
    "######## CONFUSION MATRIX\n",
    "print(\"Confusion Matrix\")\n",
    "print(confusion_matrix(y_test, final_predictions_ET))\n",
    "\n",
    "######## PRECISION Y RECALL\n",
    "from sklearn.metrics import precision_score, recall_score\n",
    "print(\"Precision\")\n",
    "print(precision_score(y_test, final_predictions_ET))\n",
    "print(\"Recall\")\n",
    "print(recall_score(y_test, final_predictions_ET))\n",
    "\n",
    "######## F1 SCORE\n",
    "from sklearn.metrics import f1_score\n",
    "print(\"F1 Score\")\n",
    "print(f1_score(y_test, final_predictions_ET))\n",
    "\n",
    "######## ROC AUC SCORE\n",
    "from sklearn.metrics import roc_auc_score\n",
    "print(\"ROC\")\n",
    "print(roc_auc_score(y_test, final_predictions_ET))"
   ]
  },
  {
   "cell_type": "code",
   "execution_count": null,
   "id": "7b1f7bd9",
   "metadata": {},
   "outputs": [],
   "source": []
  }
 ],
 "metadata": {
  "kernelspec": {
   "display_name": "Python 3 (ipykernel)",
   "language": "python",
   "name": "python3"
  },
  "language_info": {
   "codemirror_mode": {
    "name": "ipython",
    "version": 3
   },
   "file_extension": ".py",
   "mimetype": "text/x-python",
   "name": "python",
   "nbconvert_exporter": "python",
   "pygments_lexer": "ipython3",
   "version": "3.11.4"
  },
  "toc": {
   "base_numbering": 1,
   "nav_menu": {},
   "number_sections": true,
   "sideBar": true,
   "skip_h1_title": false,
   "title_cell": "Table of Contents",
   "title_sidebar": "Contents",
   "toc_cell": false,
   "toc_position": {},
   "toc_section_display": true,
   "toc_window_display": false
  },
  "varInspector": {
   "cols": {
    "lenName": 16,
    "lenType": 16,
    "lenVar": 40
   },
   "kernels_config": {
    "python": {
     "delete_cmd_postfix": "",
     "delete_cmd_prefix": "del ",
     "library": "var_list.py",
     "varRefreshCmd": "print(var_dic_list())"
    },
    "r": {
     "delete_cmd_postfix": ") ",
     "delete_cmd_prefix": "rm(",
     "library": "var_list.r",
     "varRefreshCmd": "cat(var_dic_list()) "
    }
   },
   "types_to_exclude": [
    "module",
    "function",
    "builtin_function_or_method",
    "instance",
    "_Feature"
   ],
   "window_display": false
  }
 },
 "nbformat": 4,
 "nbformat_minor": 5
}
